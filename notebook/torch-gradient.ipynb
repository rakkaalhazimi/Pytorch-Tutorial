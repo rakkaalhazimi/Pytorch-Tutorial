{
 "cells": [
  {
   "cell_type": "markdown",
   "metadata": {},
   "source": [
    "# Notes on Torch Gradient"
   ]
  },
  {
   "cell_type": "code",
   "execution_count": 41,
   "metadata": {},
   "outputs": [],
   "source": [
    "import torch\n",
    "import math"
   ]
  },
  {
   "cell_type": "markdown",
   "metadata": {},
   "source": [
    "Check for GPU"
   ]
  },
  {
   "cell_type": "code",
   "execution_count": 42,
   "metadata": {},
   "outputs": [],
   "source": [
    "if torch.cuda.is_available():\n",
    "    device = torch.device(\"cuda\")\n",
    "else:\n",
    "    device = torch.device(\"cpu\")"
   ]
  },
  {
   "cell_type": "markdown",
   "metadata": {},
   "source": [
    "## Simple gradient"
   ]
  },
  {
   "cell_type": "markdown",
   "metadata": {},
   "source": [
    "Example of simple gradient computation\n",
    "\n",
    "We want to compute the gradient of: $$f(x)=2x^2$$\n",
    "\n",
    "Which is: $$f'(x)=4x$$"
   ]
  },
  {
   "cell_type": "code",
   "execution_count": 43,
   "metadata": {},
   "outputs": [
    {
     "name": "stdout",
     "output_type": "stream",
     "text": [
      "tensor(40., dtype=torch.float16)\n"
     ]
    }
   ],
   "source": [
    "x = torch.tensor(10, dtype=torch.float16, requires_grad=True)\n",
    "f = 2 * x**2\n",
    "\n",
    "# Call backward() to compute grad\n",
    "f.backward()\n",
    "\n",
    "# Get the derivative of f(x)\n",
    "print(x.grad)"
   ]
  },
  {
   "cell_type": "markdown",
   "metadata": {},
   "source": [
    "## Polynomial Gradient"
   ]
  },
  {
   "cell_type": "markdown",
   "metadata": {},
   "source": [
    "Next, we will try to optimize some polynomial functions.\n",
    "\n",
    "Which is: $$y = a + bx + cx^2 + dx^3$$"
   ]
  },
  {
   "cell_type": "code",
   "execution_count": 44,
   "metadata": {},
   "outputs": [
    {
     "name": "stdout",
     "output_type": "stream",
     "text": [
      "4885.228515625\n",
      "3258.560546875\n",
      "2175.557861328125\n",
      "1454.203857421875\n",
      "973.5167236328125\n",
      "653.04931640625\n",
      "439.2912292480469\n",
      "296.6355285644531\n",
      "201.37840270996094\n",
      "137.73443603515625\n",
      "Result: y = 0.1646118015050888 + 0.5421510934829712 x + -0.02839827537536621 x^2 + -0.048582736402750015 x^3\n"
     ]
    }
   ],
   "source": [
    "# X and y\n",
    "dtype = torch.float32\n",
    "x = torch.linspace(-math.pi, math.pi, 2000, device=device, dtype=dtype)\n",
    "y = torch.sin(x)\n",
    "\n",
    "# Weights\n",
    "a = torch.randn((), device=device, dtype=dtype, requires_grad=True)\n",
    "b = torch.randn((), device=device, dtype=dtype, requires_grad=True)\n",
    "c = torch.randn((), device=device, dtype=dtype, requires_grad=True)\n",
    "d = torch.randn((), device=device, dtype=dtype, requires_grad=True)\n",
    "\n",
    "# Training\n",
    "learning_rate = 1e-6\n",
    "for t in range(1000):\n",
    "    # Forward pass\n",
    "    y_pred = a + b*x + c*x**2 + d*x**3\n",
    "\n",
    "    # Compute and print loss\n",
    "    loss = (y_pred - y).pow(2).sum()\n",
    "    if t % 100 == 99:\n",
    "        print(loss.item())  # .item() return python number\n",
    "\n",
    "    # Backward pass, compute the grad with respect to all tensor with `requires_grad=True`\n",
    "    loss.backward()\n",
    "\n",
    "    # Manually update weights using gradient descent\n",
    "    # .no_grad() method is used to not track weights\n",
    "    with torch.no_grad():\n",
    "        a -= learning_rate * a.grad\n",
    "        b -= learning_rate * b.grad\n",
    "        c -= learning_rate * c.grad\n",
    "        d -= learning_rate * d.grad\n",
    "\n",
    "        # Manually zero the gradients after updating weights\n",
    "        a.grad = None\n",
    "        b.grad = None\n",
    "        c.grad = None\n",
    "        d.grad = None\n",
    "\n",
    "print(f'Result: y = {a.item()} + {b.item()} x + {c.item()} x^2 + {d.item()} x^3')"
   ]
  },
  {
   "cell_type": "markdown",
   "metadata": {},
   "source": [
    "## Gradient Descent Manually on Neural Network\n",
    "The previous equation will be optimized using neural network by upgrading the parameters manually."
   ]
  },
  {
   "cell_type": "code",
   "execution_count": 71,
   "metadata": {},
   "outputs": [
    {
     "name": "stdout",
     "output_type": "stream",
     "text": [
      "99 205.10012817382812\n",
      "199 138.760498046875\n",
      "299 94.8492202758789\n",
      "399 65.7817153930664\n",
      "499 46.53871154785156\n",
      "599 33.79856491088867\n",
      "699 25.36300277709961\n",
      "799 19.777074813842773\n",
      "899 16.077892303466797\n",
      "999 13.627814292907715\n",
      "1099 12.004976272583008\n",
      "1199 10.929862976074219\n",
      "1299 10.217582702636719\n",
      "1399 9.745579719543457\n",
      "1499 9.432748794555664\n",
      "1599 9.225414276123047\n",
      "1699 9.087968826293945\n",
      "1799 8.996834754943848\n",
      "1899 8.936397552490234\n",
      "1999 8.896309852600098\n",
      "Result: y = 0.0022640277165919542 + 0.8483467698097229 x + -0.0003905838821083307 x^2 + -0.09213640540838242 x^3\n"
     ]
    }
   ],
   "source": [
    "# Create features and target\n",
    "x = torch.linspace(-math.pi, math.pi, 2000)\n",
    "y = torch.sin(x)\n",
    "\n",
    "p = torch.tensor([1, 2, 3])\n",
    "xx = x.unsqueeze(1).pow(p)\n",
    "\n",
    "\n",
    "# Create dense model\n",
    "model = torch.nn.Sequential(\n",
    "    torch.nn.Linear(xx.shape[-1], 1),\n",
    "    torch.nn.Flatten(0, 1)\n",
    ")\n",
    "\n",
    "loss_fn = torch.nn.MSELoss(reduction=\"sum\")\n",
    "\n",
    "for t in range(2000):\n",
    "    # Predict y and compute the loss\n",
    "    y_pred = model(xx)\n",
    "    loss = loss_fn(y_pred, y)\n",
    "\n",
    "    if t % 100 == 99:\n",
    "        print(t, loss.item())\n",
    "\n",
    "    # Zero the gradient to prevent the accumulation of previous gradient\n",
    "    model.zero_grad()\n",
    "\n",
    "    # Backward pass\n",
    "    loss.backward()\n",
    "\n",
    "    # Upgrade the weight without tracking gradient\n",
    "    with torch.no_grad():\n",
    "        for param in model.parameters():\n",
    "            param -= learning_rate * param.grad\n",
    "\n",
    "\n",
    "# Access the first layer of model\n",
    "linear_layer = model[0]\n",
    "\n",
    "# For linear layer, its parameters are stored as `weight` and `bias`.\n",
    "print(f'Result: y = {linear_layer.bias.item()} + {linear_layer.weight[:, 0].item()} x + {linear_layer.weight[:, 1].item()} x^2 + {linear_layer.weight[:, 2].item()} x^3')"
   ]
  },
  {
   "cell_type": "markdown",
   "metadata": {},
   "source": [
    "## Gradient Descent with Optimizers"
   ]
  },
  {
   "cell_type": "code",
   "execution_count": 72,
   "metadata": {},
   "outputs": [
    {
     "name": "stdout",
     "output_type": "stream",
     "text": [
      "99 979.8015747070312\n",
      "199 522.3261108398438\n",
      "299 374.3501281738281\n",
      "399 271.8505554199219\n",
      "499 186.4842071533203\n",
      "599 120.37196350097656\n",
      "699 72.72236633300781\n",
      "799 40.75857925415039\n",
      "899 21.636444091796875\n",
      "999 12.382662773132324\n",
      "1099 9.355053901672363\n",
      "1199 8.851106643676758\n",
      "1299 8.947275161743164\n",
      "1399 8.892522811889648\n",
      "1499 8.864999771118164\n",
      "1599 8.885665893554688\n",
      "1699 8.92397689819336\n",
      "1799 8.914529800415039\n",
      "1899 8.900985717773438\n",
      "1999 8.904716491699219\n",
      "Result: y = -8.101057602516448e-09 + 0.8572351336479187 x + -5.88732085304855e-09 x^2 + -0.09283571690320969 x^3\n"
     ]
    }
   ],
   "source": [
    "# Create Tensors to hold input and outputs.\n",
    "x = torch.linspace(-math.pi, math.pi, 2000)\n",
    "y = torch.sin(x)\n",
    "\n",
    "# Prepare the input tensor (x, x^2, x^3).\n",
    "p = torch.tensor([1, 2, 3])\n",
    "xx = x.unsqueeze(-1).pow(p)\n",
    "\n",
    "# Use the nn package to define our model and loss function.\n",
    "model = torch.nn.Sequential(\n",
    "    torch.nn.Linear(3, 1),\n",
    "    torch.nn.Flatten(0, 1)\n",
    ")\n",
    "loss_fn = torch.nn.MSELoss(reduction='sum')\n",
    "\n",
    "# Use the optim package to define an Optimizer that will update the weights of\n",
    "# the model for us. Here we will use RMSprop; the optim package contains many other\n",
    "# optimization algorithms. The first argument to the RMSprop constructor tells the\n",
    "# optimizer which Tensors it should update.\n",
    "learning_rate = 1e-3\n",
    "optimizer = torch.optim.RMSprop(model.parameters(), lr=learning_rate)\n",
    "for t in range(2000):\n",
    "    # Forward pass: compute predicted y by passing x to the model.\n",
    "    y_pred = model(xx)\n",
    "\n",
    "    # Compute and print loss.\n",
    "    loss = loss_fn(y_pred, y)\n",
    "    if t % 100 == 99:\n",
    "        print(t, loss.item())\n",
    "\n",
    "    # Before the backward pass, use the optimizer object to zero all of the\n",
    "    # gradients for the variables it will update (which are the learnable\n",
    "    # weights of the model). This is because by default, gradients are\n",
    "    # accumulated in buffers( i.e, not overwritten) whenever .backward()\n",
    "    # is called. Checkout docs of torch.autograd.backward for more details.\n",
    "    optimizer.zero_grad()\n",
    "\n",
    "    # Backward pass: compute gradient of the loss with respect to model\n",
    "    # parameters\n",
    "    loss.backward()\n",
    "\n",
    "    # Calling the step function on an Optimizer makes an update to its\n",
    "    # parameters\n",
    "    optimizer.step()\n",
    "\n",
    "\n",
    "linear_layer = model[0]\n",
    "print(f'Result: y = {linear_layer.bias.item()} + {linear_layer.weight[:, 0].item()} x + {linear_layer.weight[:, 1].item()} x^2 + {linear_layer.weight[:, 2].item()} x^3')"
   ]
  },
  {
   "cell_type": "markdown",
   "metadata": {},
   "source": [
    "## Gradient Descent with Custom Model\n",
    "We can also define our custom model by inheriting our class with `torch.nn.Module`"
   ]
  },
  {
   "cell_type": "code",
   "execution_count": 105,
   "metadata": {},
   "outputs": [
    {
     "name": "stdout",
     "output_type": "stream",
     "text": [
      "99 651.7491455078125\n",
      "199 455.06451416015625\n",
      "299 318.8379211425781\n",
      "399 224.39068603515625\n",
      "499 158.84671020507812\n",
      "599 113.31845092773438\n",
      "699 81.6651382446289\n",
      "799 59.639190673828125\n",
      "899 44.29945755004883\n",
      "999 33.60748291015625\n",
      "1099 26.1492977142334\n",
      "1199 20.942913055419922\n",
      "1299 17.305822372436523\n",
      "1399 14.763242721557617\n",
      "1499 12.984619140625\n",
      "1599 11.739627838134766\n",
      "1699 10.867630004882812\n",
      "1799 10.256516456604004\n",
      "1899 9.828022003173828\n",
      "1999 9.5274076461792\n",
      "Result: y = -0.026728274300694466 + 0.8484574556350708 x + 0.004611076787114143 x^2 + -0.09215214848518372 x^3\n"
     ]
    }
   ],
   "source": [
    "class Polynomial3(torch.nn.Module):\n",
    "    def __init__(self):\n",
    "        \"\"\"\n",
    "        In the constructor we instantiate four parameters and assign them as\n",
    "        member parameters.\n",
    "        \"\"\"\n",
    "        super().__init__()\n",
    "        self.a = torch.nn.Parameter(torch.randn(()))\n",
    "        self.b = torch.nn.Parameter(torch.randn(()))\n",
    "        self.c = torch.nn.Parameter(torch.randn(()))\n",
    "        self.d = torch.nn.Parameter(torch.randn(()))\n",
    "\n",
    "    def forward(self, x):\n",
    "        \"\"\"\n",
    "        In the forward function we accept a Tensor of input data and we must return\n",
    "        a Tensor of output data. We can use Modules defined in the constructor as\n",
    "        well as arbitrary operators on Tensors.\n",
    "        \"\"\"\n",
    "        return self.a + self.b * x + self.c * x ** 2 + self.d * x ** 3\n",
    "\n",
    "    def string(self):\n",
    "        \"\"\"\n",
    "        Just like any class in Python, you can also define custom method on PyTorch modules\n",
    "        \"\"\"\n",
    "        return f'y = {self.a.item()} + {self.b.item()} x + {self.c.item()} x^2 + {self.d.item()} x^3'\n",
    "\n",
    "\n",
    "# Create Tensors to hold input and outputs.\n",
    "x = torch.linspace(-math.pi, math.pi, 2000)\n",
    "y = torch.sin(x)\n",
    "\n",
    "p = torch.tensor([1, 2, 3])\n",
    "xx = x.unsqueeze(1).pow(p)\n",
    "\n",
    "# Construct our model by instantiating the class defined above\n",
    "model = Polynomial3()\n",
    "\n",
    "# Construct our loss function and an Optimizer. The call to model.parameters()\n",
    "# in the SGD constructor will contain the learnable parameters (defined \n",
    "# with torch.nn.Parameter) which are members of the model.\n",
    "criterion = torch.nn.MSELoss(reduction='sum')\n",
    "optimizer = torch.optim.SGD(model.parameters(), lr=1e-6)\n",
    "for t in range(2000):\n",
    "    # Forward pass: Compute predicted y by passing x to the model\n",
    "    y_pred = model(x)\n",
    "\n",
    "    # Compute and print loss\n",
    "    loss = criterion(y_pred, y)\n",
    "    if t % 100 == 99:\n",
    "        print(t, loss.item())\n",
    "\n",
    "    # Zero gradients, perform a backward pass, and update the weights.\n",
    "    optimizer.zero_grad()\n",
    "    loss.backward()\n",
    "    optimizer.step()\n",
    "\n",
    "print(f'Result: {model.string()}')"
   ]
  },
  {
   "cell_type": "markdown",
   "metadata": {},
   "source": [
    "Now we will try a custom made dense layers"
   ]
  },
  {
   "cell_type": "code",
   "execution_count": 174,
   "metadata": {},
   "outputs": [
    {
     "name": "stdout",
     "output_type": "stream",
     "text": [
      "99 517.6945190429688\n",
      "199 345.31256103515625\n",
      "299 231.32492065429688\n",
      "399 155.95059204101562\n",
      "499 106.10929870605469\n",
      "599 73.15153503417969\n",
      "699 51.35828399658203\n",
      "799 36.947540283203125\n",
      "899 27.418458938598633\n",
      "999 21.11724090576172\n",
      "1099 16.950559616088867\n",
      "1199 14.19536018371582\n",
      "1299 12.373488426208496\n",
      "1399 11.168793678283691\n",
      "1499 10.37220573425293\n",
      "1599 9.84544849395752\n",
      "1699 9.497127532958984\n",
      "1799 9.266793251037598\n",
      "1899 9.114480018615723\n",
      "1999 9.013773918151855\n"
     ]
    }
   ],
   "source": [
    "class CustomDense(torch.nn.Module):\n",
    "    def __init__(self, input_dim, output_dim):\n",
    "        \"\"\"\n",
    "        In the constructor we instantiate two parameters and assign them as\n",
    "        member parameters.\n",
    "        \"\"\"\n",
    "        super().__init__()\n",
    "        self.w = torch.nn.parameter.Parameter(torch.empty((output_dim, input_dim)))\n",
    "        self.b = torch.nn.parameter.Parameter(torch.empty((output_dim)))\n",
    "\n",
    "    def reset_params(self):\n",
    "        # Initiate weight\n",
    "        torch.nn.init.kaiming_uniform(self.w, a=math.sqrt(5))\n",
    "\n",
    "        # Initiate bias\n",
    "        torch.nn.init.constant(self.b, 0)\n",
    "\n",
    "\n",
    "    def forward(self, x):\n",
    "        \"\"\"\n",
    "        In the forward function we accept a Tensor of input data and we must return\n",
    "        a Tensor of output data. We can use Modules defined in the constructor as\n",
    "        well as arbitrary operators on Tensors.\n",
    "        \"\"\"\n",
    "        return torch.functional.F.linear(x, self.w, self.b)\n",
    "\n",
    "    def string(self):\n",
    "        \"\"\"\n",
    "        Just like any class in Python, you can also define custom method on PyTorch modules\n",
    "        \"\"\"\n",
    "        return f'{self.__class__.__name__} with weights:\\n {self.w}\\n bias:\\n {self.b}'\n",
    "\n",
    "torch.autograd.set_detect_anomaly(True)\n",
    "\n",
    "# Create Tensors to hold input and outputs.\n",
    "x = torch.linspace(-math.pi, math.pi, 2000)\n",
    "y = torch.sin(x)\n",
    "\n",
    "p = torch.tensor([1, 2, 3])\n",
    "xx = x.unsqueeze(-1).pow(p)\n",
    "\n",
    "# Construct our model by instantiating the class defined above\n",
    "model = torch.nn.Sequential(\n",
    "    CustomDense(input_dim=xx.shape[-1], output_dim=1),\n",
    "    torch.nn.Flatten(0, 1)\n",
    ")\n",
    "\n",
    "# Construct our loss function and an Optimizer. The call to model.parameters()\n",
    "# in the SGD constructor will contain the learnable parameters (defined \n",
    "# with torch.nn.Parameter) which are members of the model.\n",
    "criterion = torch.nn.MSELoss(reduction='sum')\n",
    "optimizer = torch.optim.SGD(model.parameters(), lr=1e-6)\n",
    "\n",
    "for t in range(2000):\n",
    "    # Forward pass: Compute predicted y by passing x to the model\n",
    "    y_pred = model(xx)\n",
    "\n",
    "    # Compute and print loss\n",
    "    loss = criterion(y_pred, y)\n",
    "\n",
    "    # print(y_pred.shape)\n",
    "    # print(loss)\n",
    "\n",
    "    if t % 100 == 99:\n",
    "        print(t, loss.item())\n",
    "\n",
    "    # Zero gradients, perform a backward pass, and update the weights.\n",
    "    optimizer.zero_grad()\n",
    "    loss.backward()\n",
    "    optimizer.step()"
   ]
  },
  {
   "cell_type": "code",
   "execution_count": 148,
   "metadata": {},
   "outputs": [],
   "source": [
    "for i in model.parameters():\n",
    "    print(i)"
   ]
  },
  {
   "cell_type": "code",
   "execution_count": 172,
   "metadata": {},
   "outputs": [
    {
     "data": {
      "text/plain": [
       "Parameter containing:\n",
       "tensor([[ 3.2250e+01, -1.1104e+01, -4.3324e-23]], requires_grad=True)"
      ]
     },
     "execution_count": 172,
     "metadata": {},
     "output_type": "execute_result"
    }
   ],
   "source": [
    "model[0].w"
   ]
  },
  {
   "cell_type": "code",
   "execution_count": 160,
   "metadata": {},
   "outputs": [
    {
     "data": {
      "text/plain": [
       "0.03162277660168379"
      ]
     },
     "execution_count": 160,
     "metadata": {},
     "output_type": "execute_result"
    }
   ],
   "source": [
    "1 / math.sqrt(1000)"
   ]
  }
 ],
 "metadata": {
  "kernelspec": {
   "display_name": "Python 3.7.7 64-bit",
   "language": "python",
   "name": "python3"
  },
  "language_info": {
   "codemirror_mode": {
    "name": "ipython",
    "version": 3
   },
   "file_extension": ".py",
   "mimetype": "text/x-python",
   "name": "python",
   "nbconvert_exporter": "python",
   "pygments_lexer": "ipython3",
   "version": "3.7.7"
  },
  "orig_nbformat": 4,
  "vscode": {
   "interpreter": {
    "hash": "17d5de0220e859e87431ff8652880fbd136352a03b5e7c5f75a47ca716f5e564"
   }
  }
 },
 "nbformat": 4,
 "nbformat_minor": 2
}
